{
 "cells": [
  {
   "cell_type": "code",
   "execution_count": 1,
   "id": "ad774d76",
   "metadata": {},
   "outputs": [],
   "source": [
    "from tensorflow.keras.models import load_model\n",
    "from tensorflow.keras.preprocessing import image\n",
    "import numpy as np\n",
    "import cv2"
   ]
  },
  {
   "cell_type": "code",
   "execution_count": null,
   "id": "41da5cc4",
   "metadata": {},
   "outputs": [],
   "source": []
  },
  {
   "cell_type": "code",
   "execution_count": 2,
   "id": "d871c182",
   "metadata": {},
   "outputs": [],
   "source": [
    "model=load_model('aslpng1.h5')"
   ]
  },
  {
   "cell_type": "code",
   "execution_count": 3,
   "id": "d33f0448",
   "metadata": {},
   "outputs": [],
   "source": [
    "from keras.models import load_model \n",
    "import numpy as np \n",
    "import cv2"
   ]
  },
  {
   "cell_type": "code",
   "execution_count": 4,
   "id": "e251ea6e",
   "metadata": {},
   "outputs": [],
   "source": [
    "from skimage.transform import resize \n",
    "def detect(frame):\n",
    "    img= resize(frame,(64,64,1))\n",
    "    img= np.expand_dims (img,axis=0)\n",
    "    if(np.max(img)>1):\n",
    "        img=img/255.0\n",
    "    prediction = model.predict(img)\n",
    "    print(prediction)\n",
    "    #prediction = model.predict_classes(img) \n",
    "    #print(prediction)"
   ]
  },
  {
   "cell_type": "code",
   "execution_count": 5,
   "id": "b4049b4b",
   "metadata": {},
   "outputs": [
    {
     "name": "stdout",
     "output_type": "stream",
     "text": [
      "1/1 [==============================] - 1s 600ms/step\n",
      "[[0.88884073 0.00390786 0.00904232 0.02429555 0.00217149 0.0104257\n",
      "  0.00735257 0.01088841 0.04307533]]\n"
     ]
    }
   ],
   "source": [
    "frame = cv2.imread(r\"C:/Users/Pavithra/OneDrive/Desktop/project/conversation engine for deaf and dumb/Dataset/test_set/A/1.png\")\n",
    "data = detect(frame)\n"
   ]
  },
  {
   "cell_type": "code",
   "execution_count": null,
   "id": "c855c6f9",
   "metadata": {},
   "outputs": [],
   "source": []
  }
 ],
 "metadata": {
  "kernelspec": {
   "display_name": "Python 3 (ipykernel)",
   "language": "python",
   "name": "python3"
  },
  "language_info": {
   "codemirror_mode": {
    "name": "ipython",
    "version": 3
   },
   "file_extension": ".py",
   "mimetype": "text/x-python",
   "name": "python",
   "nbconvert_exporter": "python",
   "pygments_lexer": "ipython3",
   "version": "3.9.7"
  }
 },
 "nbformat": 4,
 "nbformat_minor": 5
}
