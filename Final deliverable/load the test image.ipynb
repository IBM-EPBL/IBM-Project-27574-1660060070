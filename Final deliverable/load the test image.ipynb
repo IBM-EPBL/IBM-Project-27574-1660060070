{
 "cells": [
  {
   "cell_type": "code",
   "execution_count": 5,
   "id": "4fd4e957",
   "metadata": {},
   "outputs": [],
   "source": [
    "from keras.models import load_model \n",
    "import numpy as np \n",
    "import cv2\n"
   ]
  },
  {
   "cell_type": "code",
   "execution_count": 1,
   "id": "8bc9833c",
   "metadata": {},
   "outputs": [],
   "source": []
  },
  {
   "cell_type": "code",
   "execution_count": 6,
   "id": "390865a2",
   "metadata": {},
   "outputs": [],
   "source": [
    "model=load_model('aslpng1.h5')\n"
   ]
  },
  {
   "cell_type": "code",
   "execution_count": 22,
   "id": "8af0635c",
   "metadata": {},
   "outputs": [],
   "source": [
    "from keras.models import load_model \n",
    "import numpy as np \n",
    "import cv2"
   ]
  },
  {
   "cell_type": "code",
   "execution_count": 10,
   "id": "a59b58d8",
   "metadata": {},
   "outputs": [],
   "source": [
    "from skimage.transform import resize \n",
    "def detect(frame):\n",
    "    img= resize(frame,(64,64,1))\n",
    "    img= np.expand_dims (img,axis=0)\n",
    "    if(np.max(img)>1):\n",
    "        img=img/255.0\n",
    "    prediction = model.predict(img)\n",
    "    print(prediction)\n",
    "    #prediction = model.predict_classes(img) \n",
    "    #print(prediction)"
   ]
  },
  {
   "cell_type": "code",
   "execution_count": 11,
   "id": "4d6233d4",
   "metadata": {},
   "outputs": [
    {
     "name": "stdout",
     "output_type": "stream",
     "text": [
      "1/1 [==============================] - 0s 43ms/step\n",
      "[[0.88884073 0.00390786 0.00904232 0.02429555 0.00217149 0.0104257\n",
      "  0.00735257 0.01088841 0.04307533]]\n"
     ]
    }
   ],
   "source": [
    "frame = cv2.imread(r\"C:/Users/Pavithra/OneDrive/Desktop/project/conversation engine for deaf and dumb/Dataset/test_set/A/1.png\")\n",
    "data = detect(frame)\n",
    "\n"
   ]
  },
  {
   "cell_type": "code",
   "execution_count": null,
   "id": "43801bc1",
   "metadata": {},
   "outputs": [],
   "source": []
  }
 ],
 "metadata": {
  "kernelspec": {
   "display_name": "Python 3 (ipykernel)",
   "language": "python",
   "name": "python3"
  },
  "language_info": {
   "codemirror_mode": {
    "name": "ipython",
    "version": 3
   },
   "file_extension": ".py",
   "mimetype": "text/x-python",
   "name": "python",
   "nbconvert_exporter": "python",
   "pygments_lexer": "ipython3",
   "version": "3.9.7"
  }
 },
 "nbformat": 4,
 "nbformat_minor": 5
}
